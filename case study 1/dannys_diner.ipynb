{
    "metadata": {
        "kernelspec": {
            "name": "SQL",
            "display_name": "SQL",
            "language": "sql"
        },
        "language_info": {
            "name": "sql",
            "version": ""
        }
    },
    "nbformat_minor": 2,
    "nbformat": 4,
    "cells": [
        {
            "cell_type": "markdown",
            "source": [
                "# Case Study 1 - Danny's Dinner\n",
                "\n",
                "[https://8weeksqlchallenge.com/case-study-1/](https:\\8weeksqlchallenge.com\\case-study-1\\)\n",
                "\n",
                "Case Study Questions Each of the following case study questions can be answered using a single SQL statement:\n",
                "\n",
                "1. What is the total amount each customer spent at the restaurant?\n",
                "2. How many days has each customer visited the restaurant?\n",
                "3. What was the first item from the menu purchased by each customer?\n",
                "4. What is the most purchased item on the menu and how many times was it purchased by all customers?\n",
                "5. Which item was the most popular for each customer?\n",
                "6. Which item was purchased first by the customer after they became a member?\n",
                "7. Which item was purchased just before the customer became a member?\n",
                "8. What is the total items and amount spent for each member before they became a member?\n",
                "9. If each $1 spent equates to 10 points and sushi has a 2x points multiplier - how many points would each customer have?\n",
                "10. In the first week after a customer joins the program (including their join date) they earn 2x points on all items, not just sushi - how many points do customer A and B have at the end of January?\n",
                "\n",
                "Bonus Questions Join All The Things The following questions are related creating basic data tables that Danny and his team can use to quickly derive insights without needing to join the underlying tables using SQL.\n",
                "\n",
                "Recreate the following table output using the available data:\n",
                "\n",
                "| **customer\\_id** | **order\\_date** | **product\\_name** | **price** | **member** |\n",
                "| --- | --- | --- | --- | --- |\n",
                "| A | 2021-01-01 | curry | 15 | N |\n",
                "| A | 2021-01-01 | sushi | 10 | N |\n",
                "| A | 2021-01-07 | curry | 15 | Y |\n",
                "| A | 2021-01-10 | ramen | 12 | Y |\n",
                "| A | 2021-01-11 | ramen | 12 | Y |\n",
                "| A | 2021-01-11 | ramen | 12 | Y |\n",
                "| B | 2021-01-01 | curry | 15 | N |\n",
                "| B | 2021-01-02 | curry | 15 | N |\n",
                "| B | 2021-01-04 | sushi | 10 | N |\n",
                "| B | 2021-01-11 | sushi | 10 | Y |\n",
                "| B | 2021-01-16 | ramen | 12 | Y |\n",
                "| B | 2021-02-01 | ramen | 12 | Y |\n",
                "| C | 2021-01-01 | ramen | 12 | N |\n",
                "| C | 2021-01-01 | ramen | 12 | N |\n",
                "| C | 2021-01-07 | ramen | 12 | N |\n",
                "\n",
                "Rank All The Things Danny also requires further information about the ranking of customer products, but he purposely does not need the ranking for non-member purchases so he expects null ranking values for the records when customers are not yet part of the loyalty program.\n",
                "\n",
                "| **customer\\_id** | **order\\_date** | **product\\_name** | **price** | **member** | **ranking** |\n",
                "| --- | --- | --- | --- | --- | --- |\n",
                "| A | 2021-01-01 | curry | 15 | N | null |\n",
                "| A | 2021-01-01 | sushi | 10 | N | null |\n",
                "| A | 2021-01-07 | curry | 15 | Y | 1 |\n",
                "| A | 2021-01-10 | ramen | 12 | Y | 2 |\n",
                "| A | 2021-01-11 | ramen | 12 | Y | 3 |\n",
                "| A | 2021-01-11 | ramen | 12 | Y | 3 |\n",
                "| B | 2021-01-01 | curry | 15 | N | null |\n",
                "| B | 2021-01-02 | curry | 15 | N | null |\n",
                "| B | 2021-01-04 | sushi | 10 | N | null |\n",
                "| B | 2021-01-11 | sushi | 10 | Y | 1 |\n",
                "| B | 2021-01-16 | ramen | 12 | Y | 2 |\n",
                "| B | 2021-02-01 | ramen | 12 | Y | 3 |\n",
                "| C | 2021-01-01 | ramen | 12 | N | null |\n",
                "| C | 2021-01-01 | ramen | 12 | N | null |\n",
                "| C | 2021-01-07 | ramen | 12 | N | null |"
            ],
            "metadata": {
                "azdata_cell_guid": "63f61692-78e3-4ede-98e0-9f0547e30578"
            },
            "attachments": {}
        },
        {
            "cell_type": "markdown",
            "source": [
                "<span style=\"color: var(--vscode-foreground);\">1. What is the total amount each customer spent at the restaurant?</span>"
            ],
            "metadata": {
                "azdata_cell_guid": "da712891-80b5-4858-9cab-b238df7b9efd"
            },
            "attachments": {}
        },
        {
            "cell_type": "code",
            "source": [
                "SELECT sales.customer_id,\r\n",
                "    SUM(menu.price) AS total_price\r\n",
                "FROM sales \r\n",
                "INNER JOIN menu\r\n",
                "    ON sales.product_id = menu.product_id\r\n",
                "GROUP BY sales.customer_id;"
            ],
            "metadata": {
                "azdata_cell_guid": "0fe56535-788f-43ed-bfaa-721c1a3bc9f7",
                "language": "sql",
                "tags": []
            },
            "outputs": [
                {
                    "output_type": "display_data",
                    "data": {
                        "text/html": "(3 rows affected)"
                    },
                    "metadata": {}
                },
                {
                    "output_type": "display_data",
                    "data": {
                        "text/html": "Total execution time: 00:00:00.030"
                    },
                    "metadata": {}
                },
                {
                    "output_type": "execute_result",
                    "execution_count": 3,
                    "data": {
                        "application/vnd.dataresource+json": {
                            "schema": {
                                "fields": [
                                    {
                                        "name": "customer_id"
                                    },
                                    {
                                        "name": "total_price"
                                    }
                                ]
                            },
                            "data": [
                                {
                                    "customer_id": "A",
                                    "total_price": "76"
                                },
                                {
                                    "customer_id": "B",
                                    "total_price": "74"
                                },
                                {
                                    "customer_id": "C",
                                    "total_price": "36"
                                }
                            ]
                        },
                        "text/html": "<table><tr><th>customer_id</th><th>total_price</th></tr><tr><td>A</td><td>76</td></tr><tr><td>B</td><td>74</td></tr><tr><td>C</td><td>36</td></tr></table>"
                    },
                    "metadata": {}
                }
            ],
            "execution_count": 3
        },
        {
            "cell_type": "markdown",
            "source": [
                "<span style=\"color: var(--vscode-foreground);\">2. How many days has each customer visited the restaurant?</span>  \n",
                "\n",
                "`COUNT` and `DISTINCT` to count unique dates `GROUP BY` customer\\_id"
            ],
            "metadata": {
                "azdata_cell_guid": "ca801182-2ff9-4079-a81e-01eea13369c2"
            },
            "attachments": {}
        },
        {
            "cell_type": "code",
            "source": [
                "SELECT customer_id, \r\n",
                "    COUNT(DISTINCT(order_date)) AS total_days_visited\r\n",
                "FROM sales\r\n",
                "GROUP BY customer_id;"
            ],
            "metadata": {
                "azdata_cell_guid": "de8bdac7-3955-4c9f-a10d-510863e65bfc",
                "language": "sql"
            },
            "outputs": [
                {
                    "output_type": "display_data",
                    "data": {
                        "text/html": "(3 rows affected)"
                    },
                    "metadata": {}
                },
                {
                    "output_type": "display_data",
                    "data": {
                        "text/html": "Total execution time: 00:00:00.020"
                    },
                    "metadata": {}
                },
                {
                    "output_type": "execute_result",
                    "execution_count": 4,
                    "data": {
                        "application/vnd.dataresource+json": {
                            "schema": {
                                "fields": [
                                    {
                                        "name": "customer_id"
                                    },
                                    {
                                        "name": "total_days_visited"
                                    }
                                ]
                            },
                            "data": [
                                {
                                    "customer_id": "A",
                                    "total_days_visited": "4"
                                },
                                {
                                    "customer_id": "B",
                                    "total_days_visited": "6"
                                },
                                {
                                    "customer_id": "C",
                                    "total_days_visited": "2"
                                }
                            ]
                        },
                        "text/html": "<table><tr><th>customer_id</th><th>total_days_visited</th></tr><tr><td>A</td><td>4</td></tr><tr><td>B</td><td>6</td></tr><tr><td>C</td><td>2</td></tr></table>"
                    },
                    "metadata": {}
                }
            ],
            "execution_count": 4
        },
        {
            "cell_type": "markdown",
            "source": [
                "<span style=\"color: var(--vscode-foreground);\">3. What was the first item from the menu purchased by each customer?</span>"
            ],
            "metadata": {
                "azdata_cell_guid": "91927a47-8c44-4ee9-867f-400603dbadc3"
            },
            "attachments": {}
        },
        {
            "cell_type": "code",
            "source": [
                "WITH temp AS (SELECT customer_id,\r\n",
                "                     order_date,\r\n",
                "                     sales.product_id,\r\n",
                "                     product_name,\r\n",
                "                     price,\r\n",
                "                     DENSE_RANK() OVER (PARTITION BY customer_id ORDER BY order_date) AS product_rank\r\n",
                "              FROM sales\r\n",
                "                       INNER JOIN menu\r\n",
                "                                  ON sales.product_id = menu.product_id)\r\n",
                "SELECT customer_id,\r\n",
                "       order_date,\r\n",
                "       product_name,\r\n",
                "       product_rank\r\n",
                "FROM temp\r\n",
                "WHERE product_rank = 1;"
            ],
            "metadata": {
                "azdata_cell_guid": "910a9327-bd96-4b24-b352-2ef4ea8ef52f",
                "language": "sql"
            },
            "outputs": [
                {
                    "output_type": "display_data",
                    "data": {
                        "text/html": "(5 rows affected)"
                    },
                    "metadata": {}
                },
                {
                    "output_type": "display_data",
                    "data": {
                        "text/html": "Total execution time: 00:00:00.049"
                    },
                    "metadata": {}
                },
                {
                    "output_type": "execute_result",
                    "execution_count": 1,
                    "data": {
                        "application/vnd.dataresource+json": {
                            "schema": {
                                "fields": [
                                    {
                                        "name": "customer_id"
                                    },
                                    {
                                        "name": "order_date"
                                    },
                                    {
                                        "name": "product_name"
                                    },
                                    {
                                        "name": "product_rank"
                                    }
                                ]
                            },
                            "data": [
                                {
                                    "customer_id": "A",
                                    "order_date": "2021-01-01",
                                    "product_name": "sushi",
                                    "product_rank": "1"
                                },
                                {
                                    "customer_id": "A",
                                    "order_date": "2021-01-01",
                                    "product_name": "curry",
                                    "product_rank": "1"
                                },
                                {
                                    "customer_id": "B",
                                    "order_date": "2021-01-01",
                                    "product_name": "curry",
                                    "product_rank": "1"
                                },
                                {
                                    "customer_id": "C",
                                    "order_date": "2021-01-01",
                                    "product_name": "ramen",
                                    "product_rank": "1"
                                },
                                {
                                    "customer_id": "C",
                                    "order_date": "2021-01-01",
                                    "product_name": "ramen",
                                    "product_rank": "1"
                                }
                            ]
                        },
                        "text/html": "<table><tr><th>customer_id</th><th>order_date</th><th>product_name</th><th>product_rank</th></tr><tr><td>A</td><td>2021-01-01</td><td>sushi</td><td>1</td></tr><tr><td>A</td><td>2021-01-01</td><td>curry</td><td>1</td></tr><tr><td>B</td><td>2021-01-01</td><td>curry</td><td>1</td></tr><tr><td>C</td><td>2021-01-01</td><td>ramen</td><td>1</td></tr><tr><td>C</td><td>2021-01-01</td><td>ramen</td><td>1</td></tr></table>"
                    },
                    "metadata": {}
                }
            ],
            "execution_count": 1
        },
        {
            "cell_type": "markdown",
            "source": [
                "<span style=\"color: var(--vscode-foreground);\">4. What is the most purchased item on the menu and how many times was it purchased by all customers?</span>"
            ],
            "metadata": {
                "azdata_cell_guid": "2185adbb-a0ea-4810-907c-3c172c760140"
            },
            "attachments": {}
        },
        {
            "cell_type": "code",
            "source": [
                "WITH temptable AS(\r\n",
                "SELECT customer_id,\r\n",
                "       order_date,\r\n",
                "       sales.product_id,\r\n",
                "       product_name,\r\n",
                "       price\r\n",
                "FROM sales\r\n",
                "LEFT JOIN menu\r\n",
                "    ON sales.product_id = menu.product_id\r\n",
                "    )\r\n",
                "SELECT TOP(1) product_name,\r\n",
                "       COUNT(product_id) AS product_count\r\n",
                "FROM temptable\r\n",
                "GROUP BY product_name\r\n",
                "ORDER BY product_count DESC;"
            ],
            "metadata": {
                "azdata_cell_guid": "ad251a6a-083f-4fdf-9e7d-47aaa908f520",
                "language": "sql",
                "tags": [
                    "parameters"
                ]
            },
            "outputs": [
                {
                    "output_type": "display_data",
                    "data": {
                        "text/html": "(1 row affected)"
                    },
                    "metadata": {}
                },
                {
                    "output_type": "display_data",
                    "data": {
                        "text/html": "Total execution time: 00:00:00.030"
                    },
                    "metadata": {}
                },
                {
                    "output_type": "execute_result",
                    "execution_count": 2,
                    "data": {
                        "application/vnd.dataresource+json": {
                            "schema": {
                                "fields": [
                                    {
                                        "name": "product_name"
                                    },
                                    {
                                        "name": "product_count"
                                    }
                                ]
                            },
                            "data": [
                                {
                                    "product_name": "ramen",
                                    "product_count": "8"
                                }
                            ]
                        },
                        "text/html": "<table><tr><th>product_name</th><th>product_count</th></tr><tr><td>ramen</td><td>8</td></tr></table>"
                    },
                    "metadata": {}
                }
            ],
            "execution_count": 2
        },
        {
            "cell_type": "markdown",
            "source": [
                "<span style=\"color: var(--vscode-foreground);\">5. Which item was the most popular for each customer?</span>"
            ],
            "metadata": {
                "azdata_cell_guid": "c7dbad7f-4995-4de0-a642-cefcb3300ac9"
            },
            "attachments": {}
        },
        {
            "cell_type": "code",
            "source": [
                "WITH most_pop AS (SELECT customer_id,\r\n",
                "                         menu.product_name,\r\n",
                "                         COUNT(menu.product_name) AS product_count,\r\n",
                "                         DENSE_RANK() OVER (PARTITION BY sales.customer_id ORDER BY COUNT(sales.customer_id) DESC) AS product_rank\r\n",
                "                  FROM sales\r\n",
                "                       INNER JOIN menu ON sales.product_id = menu.product_id\r\n",
                "                  GROUP BY customer_id, menu.product_name)\r\n",
                "SELECT customer_id,\r\n",
                "       product_name,\r\n",
                "       product_count,\r\n",
                "       product_rank\r\n",
                "FROM most_pop\r\n",
                "WHERE product_rank = 1;"
            ],
            "metadata": {
                "azdata_cell_guid": "a37515d8-451b-4bfb-a6d8-ae54577fc8ed",
                "language": "sql"
            },
            "outputs": [
                {
                    "output_type": "display_data",
                    "data": {
                        "text/html": "(5 rows affected)"
                    },
                    "metadata": {}
                },
                {
                    "output_type": "display_data",
                    "data": {
                        "text/html": "Total execution time: 00:00:00.051"
                    },
                    "metadata": {}
                },
                {
                    "output_type": "execute_result",
                    "metadata": {},
                    "execution_count": 1,
                    "data": {
                        "application/vnd.dataresource+json": {
                            "schema": {
                                "fields": [
                                    {
                                        "name": "customer_id"
                                    },
                                    {
                                        "name": "product_name"
                                    },
                                    {
                                        "name": "product_count"
                                    },
                                    {
                                        "name": "product_rank"
                                    }
                                ]
                            },
                            "data": [
                                {
                                    "customer_id": "A",
                                    "product_name": "ramen",
                                    "product_count": "3",
                                    "product_rank": "1"
                                },
                                {
                                    "customer_id": "B",
                                    "product_name": "sushi",
                                    "product_count": "2",
                                    "product_rank": "1"
                                },
                                {
                                    "customer_id": "B",
                                    "product_name": "curry",
                                    "product_count": "2",
                                    "product_rank": "1"
                                },
                                {
                                    "customer_id": "B",
                                    "product_name": "ramen",
                                    "product_count": "2",
                                    "product_rank": "1"
                                },
                                {
                                    "customer_id": "C",
                                    "product_name": "ramen",
                                    "product_count": "3",
                                    "product_rank": "1"
                                }
                            ]
                        },
                        "text/html": [
                            "<table>",
                            "<tr><th>customer_id</th><th>product_name</th><th>product_count</th><th>product_rank</th></tr>",
                            "<tr><td>A</td><td>ramen</td><td>3</td><td>1</td></tr>",
                            "<tr><td>B</td><td>sushi</td><td>2</td><td>1</td></tr>",
                            "<tr><td>B</td><td>curry</td><td>2</td><td>1</td></tr>",
                            "<tr><td>B</td><td>ramen</td><td>2</td><td>1</td></tr>",
                            "<tr><td>C</td><td>ramen</td><td>3</td><td>1</td></tr>",
                            "</table>"
                        ]
                    }
                }
            ],
            "execution_count": 1
        },
        {
            "cell_type": "markdown",
            "source": [
                "<span style=\"color: var(--vscode-foreground);\">6. Which item was purchased first by the customer after they became a member?</span>"
            ],
            "metadata": {
                "azdata_cell_guid": "58666d5b-2009-493d-aaab-06361877da35"
            },
            "attachments": {}
        },
        {
            "cell_type": "code",
            "source": [
                "WITH first_item AS (SELECT sales.customer_id,\r\n",
                "                           sales.order_date,\r\n",
                "                           menu.product_name,\r\n",
                "                           DENSE_RANK() OVER (PARTITION BY sales.customer_id ORDER BY sales.order_date ASC) AS rank\r\n",
                "                    FROM sales\r\n",
                "                         INNER JOIN members ON sales.customer_id = members.customer_id\r\n",
                "                        AND sales.order_date > members.join_date\r\n",
                "                         INNER JOIN menu ON sales.product_id = menu.product_id)\r\n",
                "SELECT customer_id,\r\n",
                "       order_date,\r\n",
                "       product_name\r\n",
                "FROM first_item\r\n",
                "WHERE rank = 1;\r\n",
                ""
            ],
            "metadata": {
                "azdata_cell_guid": "7e0008c7-2869-4ed3-b386-f0270632a211",
                "language": "sql"
            },
            "outputs": [
                {
                    "output_type": "display_data",
                    "data": {
                        "text/html": "(2 rows affected)"
                    },
                    "metadata": {}
                },
                {
                    "output_type": "display_data",
                    "data": {
                        "text/html": "Total execution time: 00:00:00.314"
                    },
                    "metadata": {}
                },
                {
                    "output_type": "execute_result",
                    "metadata": {},
                    "execution_count": 2,
                    "data": {
                        "application/vnd.dataresource+json": {
                            "schema": {
                                "fields": [
                                    {
                                        "name": "customer_id"
                                    },
                                    {
                                        "name": "product_name"
                                    }
                                ]
                            },
                            "data": [
                                {
                                    "customer_id": "A",
                                    "product_name": "ramen"
                                },
                                {
                                    "customer_id": "B",
                                    "product_name": "sushi"
                                }
                            ]
                        },
                        "text/html": [
                            "<table>",
                            "<tr><th>customer_id</th><th>product_name</th></tr>",
                            "<tr><td>A</td><td>ramen</td></tr>",
                            "<tr><td>B</td><td>sushi</td></tr>",
                            "</table>"
                        ]
                    }
                }
            ],
            "execution_count": 2
        },
        {
            "cell_type": "markdown",
            "source": [
                "<span style=\"color: var(--vscode-foreground);\">7. Which item was purchased just before the customer became a member?</span>"
            ],
            "metadata": {
                "azdata_cell_guid": "009c6987-e3a9-4b8f-9c40-80d63fcea383"
            },
            "attachments": {}
        },
        {
            "cell_type": "code",
            "source": [
                "WITH first_item AS (SELECT sales.customer_id,\r\n",
                "                           sales.order_date,\r\n",
                "                           menu.product_name,\r\n",
                "                           DENSE_RANK() OVER (PARTITION BY sales.customer_id ORDER BY sales.order_date DESC) AS rank\r\n",
                "                    FROM sales\r\n",
                "                         INNER JOIN members ON sales.customer_id = members.customer_id\r\n",
                "                        AND sales.order_date < members.join_date\r\n",
                "                         INNER JOIN menu ON sales.product_id = menu.product_id)\r\n",
                "SELECT customer_id,\r\n",
                "       order_date,\r\n",
                "       product_name\r\n",
                "FROM first_item\r\n",
                "WHERE rank = 1;"
            ],
            "metadata": {
                "azdata_cell_guid": "6ba53f1d-dfb0-4b12-b30b-ec76bbbb676c",
                "language": "sql"
            },
            "outputs": [
                {
                    "output_type": "display_data",
                    "data": {
                        "text/html": "(3 rows affected)"
                    },
                    "metadata": {}
                },
                {
                    "output_type": "display_data",
                    "data": {
                        "text/html": "Total execution time: 00:00:00.070"
                    },
                    "metadata": {}
                },
                {
                    "output_type": "execute_result",
                    "metadata": {},
                    "execution_count": 3,
                    "data": {
                        "application/vnd.dataresource+json": {
                            "schema": {
                                "fields": [
                                    {
                                        "name": "customer_id"
                                    },
                                    {
                                        "name": "order_date"
                                    },
                                    {
                                        "name": "product_name"
                                    }
                                ]
                            },
                            "data": [
                                {
                                    "customer_id": "A",
                                    "order_date": "2021-01-01",
                                    "product_name": "sushi"
                                },
                                {
                                    "customer_id": "A",
                                    "order_date": "2021-01-01",
                                    "product_name": "curry"
                                },
                                {
                                    "customer_id": "B",
                                    "order_date": "2021-01-04",
                                    "product_name": "sushi"
                                }
                            ]
                        },
                        "text/html": [
                            "<table>",
                            "<tr><th>customer_id</th><th>order_date</th><th>product_name</th></tr>",
                            "<tr><td>A</td><td>2021-01-01</td><td>sushi</td></tr>",
                            "<tr><td>A</td><td>2021-01-01</td><td>curry</td></tr>",
                            "<tr><td>B</td><td>2021-01-04</td><td>sushi</td></tr>",
                            "</table>"
                        ]
                    }
                }
            ],
            "execution_count": 3
        },
        {
            "cell_type": "markdown",
            "source": [
                "<span style=\"color: var(--vscode-foreground);\">8. What is the total items and amount spent for each member before they became a member?</span>"
            ],
            "metadata": {
                "azdata_cell_guid": "4367d4fe-f4a0-4c4c-8d33-ef7b38cec5df"
            },
            "attachments": {}
        },
        {
            "cell_type": "code",
            "source": [
                "WITH temp_table AS (SELECT sales.customer_id,\r\n",
                "                           sales.order_date,\r\n",
                "                           menu.product_id,\r\n",
                "                           menu.price\r\n",
                "                    FROM sales\r\n",
                "                         INNER JOIN members ON sales.customer_id = members.customer_id\r\n",
                "                        AND sales.order_date < members.join_date\r\n",
                "                         INNER JOIN menu ON sales.product_id = menu.product_id)\r\n",
                "SELECT customer_id,\r\n",
                "       COUNT(product_id) AS total_items,\r\n",
                "       SUM(price) AS total_price\r\n",
                "FROM temp_table\r\n",
                "GROUP BY customer_id;"
            ],
            "metadata": {
                "azdata_cell_guid": "2c92f2e5-1891-4b3a-9d23-fa3af55ec67c",
                "language": "sql"
            },
            "outputs": [
{
    "output_type": "display_data",
    "data": {
        "text/html": "(2 rows affected)"
    },
    "metadata": {}
}, {
    "output_type": "display_data",
    "data": {
        "text/html": "Total execution time: 00:00:00.258"
    },
    "metadata": {}
}, {
    "output_type": "execute_result",
    "metadata": {},
    "execution_count": 4,
    "data": {
        "application/vnd.dataresource+json": {
            "schema": {
                "fields": [
                    {
                        "name": "customer_id"
                    },
                    {
                        "name": "total_items"
                    },
                    {
                        "name": "total_price"
                    }
                ]
            },
            "data": [
                {
                    "customer_id": "A",
                    "total_items": "2",
                    "total_price": "25"
                },
                {
                    "customer_id": "B",
                    "total_items": "3",
                    "total_price": "40"
                }
            ]
        },
        "text/html": [
            "<table>",
            "<tr><th>customer_id</th><th>total_items</th><th>total_price</th></tr>",
            "<tr><td>A</td><td>2</td><td>25</td></tr>",
            "<tr><td>B</td><td>3</td><td>40</td></tr>",
            "</table>"
        ]
    }
}
],
            "execution_count": 4
        },
        {
            "cell_type": "markdown",
            "source": [
                "<span style=\"color: var(--vscode-foreground);\">9. If each $1 spent equates to 10 points and sushi has a 2x points multiplier - how many points would each customer have?</span>"
            ],
            "metadata": {
                "azdata_cell_guid": "0d4b9a8a-850b-4450-9af3-7f6b65d4cd6a"
            },
            "attachments": {}
        },
        {
            "cell_type": "code",
            "source": [
                ""
            ],
            "metadata": {
                "azdata_cell_guid": "94a04720-a438-43b6-96e2-c04773ad70c7",
                "language": "sql"
            },
            "outputs": [],
            "execution_count": null
        },
        {
            "cell_type": "markdown",
            "source": [
                "10\\. In the first week after a customer joins the program (including their join date) they earn 2x points on all items, not just sushi - how many points do customer A and B have at the end of January?"
            ],
            "metadata": {
                "azdata_cell_guid": "6ac8eeba-6460-42a7-8810-9b019d09b7ea"
            },
            "attachments": {}
        },
        {
            "cell_type": "code",
            "source": [
                ""
            ],
            "metadata": {
                "azdata_cell_guid": "6ec3fa4c-a379-4e7b-bc67-2ddd7cabf444",
                "language": "sql"
            },
            "outputs": [],
            "execution_count": null
        }
    ]
}