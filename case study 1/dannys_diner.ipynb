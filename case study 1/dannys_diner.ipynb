{
    "metadata": {
        "kernelspec": {
            "name": "SQL",
            "display_name": "SQL",
            "language": "sql"
        },
        "language_info": {
            "name": "sql",
            "version": ""
        }
    },
    "nbformat_minor": 2,
    "nbformat": 4,
    "cells": [
        {
            "cell_type": "markdown",
            "source": [
                "Case Study 1 - Danny's Dinner\n",
                "\n",
                "[https://8weeksqlchallenge.com/case-study-1/](https:\\8weeksqlchallenge.com\\case-study-1\\)\n",
                "\n",
                "Case Study Questions Each of the following case study questions can be answered using a single SQL statement:\n",
                "\n",
                "1. What is the total amount each customer spent at the restaurant?\n",
                "2. How many days has each customer visited the restaurant?\n",
                "3. What was the first item from the menu purchased by each customer?\n",
                "4. What is the most purchased item on the menu and how many times was it purchased by all customers?\n",
                "5. Which item was the most popular for each customer?\n",
                "6. Which item was purchased first by the customer after they became a member?\n",
                "7. Which item was purchased just before the customer became a member?\n",
                "8. What is the total items and amount spent for each member before they became a member?\n",
                "9. If each $1 spent equates to 10 points and sushi has a 2x points multiplier - how many points would each customer have?\n",
                "10. In the first week after a customer joins the program (including their join date) they earn 2x points on all items, not just sushi - how many points do customer A and B have at the end of January?\n",
                "\n",
                "Bonus Questions\n",
                "Join All The Things\n",
                "The following questions are related creating basic data tables that Danny and his team can use to quickly derive insights without needing to join the underlying tables using SQL.\n",
                "\n",
                "Recreate the following table output using the available data:\n",
                "\n",
                "| **customer_id** | **order_date** | **product_name** | **price** | **member** |\n",
                "|-----------------|----------------|------------------|-----------|------------|\n",
                "| A               | 2021-01-01     | curry            | 15        | N          |\n",
                "| A               | 2021-01-01     | sushi            | 10        | N          |\n",
                "| A               | 2021-01-07     | curry            | 15        | Y          |\n",
                "| A               | 2021-01-10     | ramen            | 12        | Y          |\n",
                "| A               | 2021-01-11     | ramen            | 12        | Y          |\n",
                "| A               | 2021-01-11     | ramen            | 12        | Y          |\n",
                "| B               | 2021-01-01     | curry            | 15        | N          |\n",
                "| B               | 2021-01-02     | curry            | 15        | N          |\n",
                "| B               | 2021-01-04     | sushi            | 10        | N          |\n",
                "| B               | 2021-01-11     | sushi            | 10        | Y          |\n",
                "| B               | 2021-01-16     | ramen            | 12        | Y          |\n",
                "| B               | 2021-02-01     | ramen            | 12        | Y          |\n",
                "| C               | 2021-01-01     | ramen            | 12        | N          |\n",
                "| C               | 2021-01-01     | ramen            | 12        | N          |\n",
                "| C               | 2021-01-07     | ramen            | 12        | N          |\n",
                "\n",
                "Rank All The Things\n",
                "Danny also requires further information about the ranking of customer products, but he purposely does not need the ranking for non-member purchases so he expects null ranking values for the records when customers are not yet part of the loyalty program.\n",
                "\n",
                "| **customer_id** | **order_date** | **product_name** | **price** | **member** | **ranking** |\n",
                "|-----------------|----------------|------------------|-----------|------------|-------------|\n",
                "| A               | 2021-01-01     | curry            | 15        | N          | null        |\n",
                "| A               | 2021-01-01     | sushi            | 10        | N          | null        |\n",
                "| A               | 2021-01-07     | curry            | 15        | Y          | 1           |\n",
                "| A               | 2021-01-10     | ramen            | 12        | Y          | 2           |\n",
                "| A               | 2021-01-11     | ramen            | 12        | Y          | 3           |\n",
                "| A               | 2021-01-11     | ramen            | 12        | Y          | 3           |\n",
                "| B               | 2021-01-01     | curry            | 15        | N          | null        |\n",
                "| B               | 2021-01-02     | curry            | 15        | N          | null        |\n",
                "| B               | 2021-01-04     | sushi            | 10        | N          | null        |\n",
                "| B               | 2021-01-11     | sushi            | 10        | Y          | 1           |\n",
                "| B               | 2021-01-16     | ramen            | 12        | Y          | 2           |\n",
                "| B               | 2021-02-01     | ramen            | 12        | Y          | 3           |\n",
                "| C               | 2021-01-01     | ramen            | 12        | N          | null        |\n",
                "| C               | 2021-01-01     | ramen            | 12        | N          | null        |\n",
                "| C               | 2021-01-07     | ramen            | 12        | N          | null        |"
            ],
            "metadata": {
                "azdata_cell_guid": "63f61692-78e3-4ede-98e0-9f0547e30578"
            },
            "attachments": {}
        },
        {
            "cell_type": "markdown",
            "source": [
                "1. What is the total amount each customer spent at the restaurant?"
            ],
            "metadata": {
                "azdata_cell_guid": "da712891-80b5-4858-9cab-b238df7b9efd"
            },
            "attachments": {}
        },
        {
            "cell_type": "code",
            "source": [
                "SELECT *\r\n",
                "FROM menu;"
            ],
            "metadata": {
                "azdata_cell_guid": "0fe56535-788f-43ed-bfaa-721c1a3bc9f7",
                "language": "sql"
            },
            "outputs": [
                {
                    "output_type": "display_data",
                    "data": {
                        "text/html": "(3 rows affected)"
                    },
                    "metadata": {}
                },
                {
                    "output_type": "display_data",
                    "data": {
                        "text/html": "Total execution time: 00:00:00.069"
                    },
                    "metadata": {}
                },
                {
                    "output_type": "execute_result",
                    "metadata": {},
                    "execution_count": 1,
                    "data": {
                        "application/vnd.dataresource+json": {
                            "schema": {
                                "fields": [
                                    {
                                        "name": "product_id"
                                    },
                                    {
                                        "name": "product_name"
                                    },
                                    {
                                        "name": "price"
                                    }
                                ]
                            },
                            "data": [
                                {
                                    "product_id": "1",
                                    "product_name": "sushi",
                                    "price": "10"
                                },
                                {
                                    "product_id": "2",
                                    "product_name": "curry",
                                    "price": "15"
                                },
                                {
                                    "product_id": "3",
                                    "product_name": "ramen",
                                    "price": "12"
                                }
                            ]
                        },
                        "text/html": [
                            "<table>",
                            "<tr><th>product_id</th><th>product_name</th><th>price</th></tr>",
                            "<tr><td>1</td><td>sushi</td><td>10</td></tr>",
                            "<tr><td>2</td><td>curry</td><td>15</td></tr>",
                            "<tr><td>3</td><td>ramen</td><td>12</td></tr>",
                            "</table>"
                        ]
                    }
                }
            ],
            "execution_count": 1
        },
        {
            "cell_type": "markdown",
            "source": [
                "1. How many days has each customer visited the restaurant?"
            ],
            "metadata": {
                "azdata_cell_guid": "ca801182-2ff9-4079-a81e-01eea13369c2"
            },
            "attachments": {}
        }
    ]
}