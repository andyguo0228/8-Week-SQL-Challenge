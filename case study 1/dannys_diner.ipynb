{
 "cells": [
  {
   "attachments": {},
   "cell_type": "markdown",
   "metadata": {
    "azdata_cell_guid": "63f61692-78e3-4ede-98e0-9f0547e30578"
   },
   "source": [
    "# Case Study 1 - Danny's Dinner\n",
    "\n",
    "[https://8weeksqlchallenge.com/case-study-1/](https:\\8weeksqlchallenge.com\\case-study-1\\)\n",
    "\n",
    "Case Study Questions Each of the following case study questions can be answered using a single SQL statement:\n",
    "\n",
    "1. What is the total amount each customer spent at the restaurant?\n",
    "2. How many days has each customer visited the restaurant?\n",
    "3. What was the first item from the menu purchased by each customer?\n",
    "4. What is the most purchased item on the menu and how many times was it purchased by all customers?\n",
    "5. Which item was the most popular for each customer?\n",
    "6. Which item was purchased first by the customer after they became a member?\n",
    "7. Which item was purchased just before the customer became a member?\n",
    "8. What is the total items and amount spent for each member before they became a member?\n",
    "9. If each $1 spent equates to 10 points and sushi has a 2x points multiplier - how many points would each customer have?\n",
    "10. In the first week after a customer joins the program (including their join date) they earn 2x points on all items, not just sushi - how many points do customer A and B have at the end of January?\n",
    "\n",
    "Bonus Questions Join All The Things The following questions are related creating basic data tables that Danny and his team can use to quickly derive insights without needing to join the underlying tables using SQL.\n",
    "\n",
    "Recreate the following table output using the available data:\n",
    "\n",
    "| **customer\\_id** | **order\\_date** | **product\\_name** | **price** | **member** |\n",
    "| --- | --- | --- | --- | --- |\n",
    "| A | 2021-01-01 | curry | 15 | N |\n",
    "| A | 2021-01-01 | sushi | 10 | N |\n",
    "| A | 2021-01-07 | curry | 15 | Y |\n",
    "| A | 2021-01-10 | ramen | 12 | Y |\n",
    "| A | 2021-01-11 | ramen | 12 | Y |\n",
    "| A | 2021-01-11 | ramen | 12 | Y |\n",
    "| B | 2021-01-01 | curry | 15 | N |\n",
    "| B | 2021-01-02 | curry | 15 | N |\n",
    "| B | 2021-01-04 | sushi | 10 | N |\n",
    "| B | 2021-01-11 | sushi | 10 | Y |\n",
    "| B | 2021-01-16 | ramen | 12 | Y |\n",
    "| B | 2021-02-01 | ramen | 12 | Y |\n",
    "| C | 2021-01-01 | ramen | 12 | N |\n",
    "| C | 2021-01-01 | ramen | 12 | N |\n",
    "| C | 2021-01-07 | ramen | 12 | N |\n",
    "\n",
    "Rank All The Things Danny also requires further information about the ranking of customer products, but he purposely does not need the ranking for non-member purchases so he expects null ranking values for the records when customers are not yet part of the loyalty program.\n",
    "\n",
    "| **customer\\_id** | **order\\_date** | **product\\_name** | **price** | **member** | **ranking** |\n",
    "| --- | --- | --- | --- | --- | --- |\n",
    "| A | 2021-01-01 | curry | 15 | N | null |\n",
    "| A | 2021-01-01 | sushi | 10 | N | null |\n",
    "| A | 2021-01-07 | curry | 15 | Y | 1 |\n",
    "| A | 2021-01-10 | ramen | 12 | Y | 2 |\n",
    "| A | 2021-01-11 | ramen | 12 | Y | 3 |\n",
    "| A | 2021-01-11 | ramen | 12 | Y | 3 |\n",
    "| B | 2021-01-01 | curry | 15 | N | null |\n",
    "| B | 2021-01-02 | curry | 15 | N | null |\n",
    "| B | 2021-01-04 | sushi | 10 | N | null |\n",
    "| B | 2021-01-11 | sushi | 10 | Y | 1 |\n",
    "| B | 2021-01-16 | ramen | 12 | Y | 2 |\n",
    "| B | 2021-02-01 | ramen | 12 | Y | 3 |\n",
    "| C | 2021-01-01 | ramen | 12 | N | null |\n",
    "| C | 2021-01-01 | ramen | 12 | N | null |\n",
    "| C | 2021-01-07 | ramen | 12 | N | null |"
   ]
  },
  {
   "cell_type": "markdown",
   "metadata": {},
   "source": [
    "### What is the total amount each customer spent at the restaurant?\n",
    "\n",
    "- **INNER JOIN** `sales` with `menu` to obtain price of each product.\n",
    "- **GROUP BY** `customer_id` and use **SUM** to aggregate total price\n",
    "\n",
    "> ```sql\n",
    "> SELECT sales.customer_id,\n",
    ">     SUM(menu.price) AS total_price\n",
    "> FROM sales \n",
    "> INNER JOIN menu\n",
    ">     ON sales.product_id = menu.product_id\n",
    "> GROUP BY sales.customer_id;\n",
    "> ```\n",
    "\n",
    "| customer\\_id | total\\_price |\n",
    "| :--- | :--- |\n",
    "| B | 74 |\n",
    "| C | 36 |\n",
    "| A | 76 |\n"
   ]
  },
  {
   "cell_type": "markdown",
   "metadata": {},
   "source": [
    "### How many days has each customer visited the restaurant?\n",
    "\n",
    "- **GROUP BY** `customer_id`\n",
    "- **COUNT** and **DISTINCT** to count unique dates\n",
    "\n",
    "> ```sql\n",
    "> SELECT customer_id, \n",
    ">     COUNT(DISTINCT(order_date)) AS total_days_visited\n",
    "> FROM sales\n",
    "> GROUP BY customer_id;\n",
    "> \n",
    "> ```\n",
    "| customer\\_id | total\\_days\\_visited |\n",
    "| :--- | :--- |\n",
    "| A | 4 |\n",
    "| B | 6 |\n",
    "| C | 2 |\n"
   ]
  },
  {
   "cell_type": "markdown",
   "metadata": {},
   "source": [
    "### What was the first item from the menu purchased by each customer?\n",
    "\n",
    "- Construct CTE with `product_name` and rank by `order_date`\n",
    "    - **INNER JOIN** `sales` with `menu` to obtain `product_name`\n",
    "    - Rank by `order_date` using window function **DENSE_RANK()** with **PARTITION BY** `customer_id` and **ORDER BY** `order_date`\n",
    "- Use CTE in main query and filter table using **WHERE** to show only rank 1\n",
    "\n",
    "> ```sql\n",
    "> WITH temp_table AS (SELECT customer_id,\n",
    ">                            order_date,\n",
    ">                            sales.product_id,\n",
    ">                            product_name,\n",
    ">                            DENSE_RANK() OVER (PARTITION BY customer_id ORDER BY order_date) AS product_rank\n",
    ">                     FROM sales\n",
    ">                          INNER JOIN menu ON sales.product_id = menu.product_id)\n",
    "> SELECT customer_id,\n",
    ">        order_date,\n",
    ">        product_name\n",
    "> FROM temp_table\n",
    "> WHERE product_rank = 1;\n",
    "> \n",
    "> ```\n",
    "| customer\\_id | order\\_date | product\\_name |\n",
    "| :--- | :--- | :--- |\n",
    "| A | 2021-01-01 | curry |\n",
    "| A | 2021-01-01 | sushi |\n",
    "| B | 2021-01-01 | curry |\n",
    "| C | 2021-01-01 | ramen |\n",
    "| C | 2021-01-01 | ramen |\n"
   ]
  },
  {
   "cell_type": "markdown",
   "metadata": {},
   "source": [
    "What is the most purchased item on the menu and how many times was it purchased by all customers?"
   ]
  },
  {
   "attachments": {},
   "cell_type": "markdown",
   "metadata": {
    "azdata_cell_guid": "2185adbb-a0ea-4810-907c-3c172c760140"
   },
   "source": [
    "<span style=\"color: var(--vscode-foreground);\">4. What is the most purchased item on the menu and how many times was it purchased by all customers?</span>"
   ]
  },
  {
   "cell_type": "code",
   "execution_count": 2,
   "metadata": {
    "azdata_cell_guid": "ad251a6a-083f-4fdf-9e7d-47aaa908f520",
    "language": "sql",
    "tags": [
     "parameters"
    ]
   },
   "outputs": [
    {
     "data": {
      "text/html": [
       "(1 row affected)"
      ]
     },
     "metadata": {},
     "output_type": "display_data"
    },
    {
     "data": {
      "text/html": [
       "Total execution time: 00:00:00.030"
      ]
     },
     "metadata": {},
     "output_type": "display_data"
    },
    {
     "data": {
      "application/vnd.dataresource+json": {
       "data": [
        {
         "product_count": "8",
         "product_name": "ramen"
        }
       ],
       "schema": {
        "fields": [
         {
          "name": "product_name"
         },
         {
          "name": "product_count"
         }
        ]
       }
      },
      "text/html": [
       "<table><tr><th>product_name</th><th>product_count</th></tr><tr><td>ramen</td><td>8</td></tr></table>"
      ]
     },
     "execution_count": 2,
     "metadata": {},
     "output_type": "execute_result"
    }
   ],
   "source": [
    "WITH temp_table AS (SELECT customer_id,\n",
    "                          order_date,\n",
    "                          sales.product_id,\n",
    "                          product_name,\n",
    "                          price\n",
    "                   FROM sales\n",
    "                        LEFT JOIN menu ON sales.product_id = menu.product_id)\n",
    "SELECT TOP (1) product_name,\n",
    "               COUNT(product_id) AS product_count\n",
    "FROM temp_table\n",
    "GROUP BY product_name\n",
    "ORDER BY product_count DESC;"
   ]
  },
  {
   "attachments": {},
   "cell_type": "markdown",
   "metadata": {
    "azdata_cell_guid": "c7dbad7f-4995-4de0-a642-cefcb3300ac9"
   },
   "source": [
    "<span style=\"color: var(--vscode-foreground);\">5. Which item was the most popular for each customer?</span>"
   ]
  },
  {
   "cell_type": "code",
   "execution_count": 1,
   "metadata": {
    "azdata_cell_guid": "a37515d8-451b-4bfb-a6d8-ae54577fc8ed",
    "language": "sql"
   },
   "outputs": [
    {
     "data": {
      "text/html": [
       "(5 rows affected)"
      ]
     },
     "metadata": {},
     "output_type": "display_data"
    },
    {
     "data": {
      "text/html": [
       "Total execution time: 00:00:00.051"
      ]
     },
     "metadata": {},
     "output_type": "display_data"
    },
    {
     "data": {
      "application/vnd.dataresource+json": {
       "data": [
        {
         "customer_id": "A",
         "product_count": "3",
         "product_name": "ramen",
         "product_rank": "1"
        },
        {
         "customer_id": "B",
         "product_count": "2",
         "product_name": "sushi",
         "product_rank": "1"
        },
        {
         "customer_id": "B",
         "product_count": "2",
         "product_name": "curry",
         "product_rank": "1"
        },
        {
         "customer_id": "B",
         "product_count": "2",
         "product_name": "ramen",
         "product_rank": "1"
        },
        {
         "customer_id": "C",
         "product_count": "3",
         "product_name": "ramen",
         "product_rank": "1"
        }
       ],
       "schema": {
        "fields": [
         {
          "name": "customer_id"
         },
         {
          "name": "product_name"
         },
         {
          "name": "product_count"
         },
         {
          "name": "product_rank"
         }
        ]
       }
      },
      "text/html": [
       "<table><tr><th>customer_id</th><th>product_name</th><th>product_count</th><th>product_rank</th></tr><tr><td>A</td><td>ramen</td><td>3</td><td>1</td></tr><tr><td>B</td><td>sushi</td><td>2</td><td>1</td></tr><tr><td>B</td><td>curry</td><td>2</td><td>1</td></tr><tr><td>B</td><td>ramen</td><td>2</td><td>1</td></tr><tr><td>C</td><td>ramen</td><td>3</td><td>1</td></tr></table>"
      ]
     },
     "execution_count": 1,
     "metadata": {},
     "output_type": "execute_result"
    }
   ],
   "source": [
    "WITH most_pop AS (SELECT customer_id,\n",
    "                         menu.product_name,\n",
    "                         COUNT(menu.product_name) AS product_count,\n",
    "                         DENSE_RANK() OVER (PARTITION BY sales.customer_id ORDER BY COUNT(sales.customer_id) DESC) AS product_rank\n",
    "                  FROM sales\n",
    "                       INNER JOIN menu ON sales.product_id = menu.product_id\n",
    "                  GROUP BY customer_id, menu.product_name)\n",
    "SELECT customer_id,\n",
    "       product_name,\n",
    "       product_count,\n",
    "       product_rank\n",
    "FROM most_pop\n",
    "WHERE product_rank = 1;"
   ]
  },
  {
   "attachments": {},
   "cell_type": "markdown",
   "metadata": {
    "azdata_cell_guid": "58666d5b-2009-493d-aaab-06361877da35"
   },
   "source": [
    "<span style=\"color: var(--vscode-foreground);\">6. Which item was purchased first by the customer after they became a member?</span>"
   ]
  },
  {
   "cell_type": "code",
   "execution_count": 2,
   "metadata": {
    "azdata_cell_guid": "7e0008c7-2869-4ed3-b386-f0270632a211",
    "language": "sql"
   },
   "outputs": [
    {
     "data": {
      "text/html": [
       "(2 rows affected)"
      ]
     },
     "metadata": {},
     "output_type": "display_data"
    },
    {
     "data": {
      "text/html": [
       "Total execution time: 00:00:00.314"
      ]
     },
     "metadata": {},
     "output_type": "display_data"
    },
    {
     "data": {
      "application/vnd.dataresource+json": {
       "data": [
        {
         "customer_id": "A",
         "product_name": "ramen"
        },
        {
         "customer_id": "B",
         "product_name": "sushi"
        }
       ],
       "schema": {
        "fields": [
         {
          "name": "customer_id"
         },
         {
          "name": "product_name"
         }
        ]
       }
      },
      "text/html": [
       "<table><tr><th>customer_id</th><th>product_name</th></tr><tr><td>A</td><td>ramen</td></tr><tr><td>B</td><td>sushi</td></tr></table>"
      ]
     },
     "execution_count": 2,
     "metadata": {},
     "output_type": "execute_result"
    }
   ],
   "source": [
    "WITH first_item AS (SELECT sales.customer_id,\n",
    "                           sales.order_date,\n",
    "                           menu.product_name,\n",
    "                           DENSE_RANK() OVER (PARTITION BY sales.customer_id ORDER BY sales.order_date ASC) AS rank\n",
    "                    FROM sales\n",
    "                         INNER JOIN members ON sales.customer_id = members.customer_id\n",
    "                        AND sales.order_date > members.join_date\n",
    "                         INNER JOIN menu ON sales.product_id = menu.product_id)\n",
    "SELECT customer_id,\n",
    "       order_date,\n",
    "       product_name\n",
    "FROM first_item\n",
    "WHERE rank = 1;\n"
   ]
  },
  {
   "attachments": {},
   "cell_type": "markdown",
   "metadata": {
    "azdata_cell_guid": "009c6987-e3a9-4b8f-9c40-80d63fcea383"
   },
   "source": [
    "<span style=\"color: var(--vscode-foreground);\">7. Which item was purchased just before the customer became a member?</span>"
   ]
  },
  {
   "cell_type": "code",
   "execution_count": 3,
   "metadata": {
    "azdata_cell_guid": "6ba53f1d-dfb0-4b12-b30b-ec76bbbb676c",
    "language": "sql"
   },
   "outputs": [
    {
     "data": {
      "text/html": [
       "(3 rows affected)"
      ]
     },
     "metadata": {},
     "output_type": "display_data"
    },
    {
     "data": {
      "text/html": [
       "Total execution time: 00:00:00.070"
      ]
     },
     "metadata": {},
     "output_type": "display_data"
    },
    {
     "data": {
      "application/vnd.dataresource+json": {
       "data": [
        {
         "customer_id": "A",
         "order_date": "2021-01-01",
         "product_name": "sushi"
        },
        {
         "customer_id": "A",
         "order_date": "2021-01-01",
         "product_name": "curry"
        },
        {
         "customer_id": "B",
         "order_date": "2021-01-04",
         "product_name": "sushi"
        }
       ],
       "schema": {
        "fields": [
         {
          "name": "customer_id"
         },
         {
          "name": "order_date"
         },
         {
          "name": "product_name"
         }
        ]
       }
      },
      "text/html": [
       "<table><tr><th>customer_id</th><th>order_date</th><th>product_name</th></tr><tr><td>A</td><td>2021-01-01</td><td>sushi</td></tr><tr><td>A</td><td>2021-01-01</td><td>curry</td></tr><tr><td>B</td><td>2021-01-04</td><td>sushi</td></tr></table>"
      ]
     },
     "execution_count": 3,
     "metadata": {},
     "output_type": "execute_result"
    }
   ],
   "source": [
    "WITH first_item AS (SELECT sales.customer_id,\n",
    "                           sales.order_date,\n",
    "                           menu.product_name,\n",
    "                           DENSE_RANK() OVER (PARTITION BY sales.customer_id ORDER BY sales.order_date DESC) AS rank\n",
    "                    FROM sales\n",
    "                         INNER JOIN members ON sales.customer_id = members.customer_id\n",
    "                        AND sales.order_date < members.join_date\n",
    "                         INNER JOIN menu ON sales.product_id = menu.product_id)\n",
    "SELECT customer_id,\n",
    "       order_date,\n",
    "       product_name\n",
    "FROM first_item\n",
    "WHERE rank = 1;"
   ]
  },
  {
   "attachments": {},
   "cell_type": "markdown",
   "metadata": {
    "azdata_cell_guid": "4367d4fe-f4a0-4c4c-8d33-ef7b38cec5df"
   },
   "source": [
    "<span style=\"color: var(--vscode-foreground);\">8. What is the total items and amount spent for each member before they became a member?</span>"
   ]
  },
  {
   "cell_type": "code",
   "execution_count": 4,
   "metadata": {
    "azdata_cell_guid": "2c92f2e5-1891-4b3a-9d23-fa3af55ec67c",
    "language": "sql"
   },
   "outputs": [
    {
     "data": {
      "text/html": [
       "(2 rows affected)"
      ]
     },
     "metadata": {},
     "output_type": "display_data"
    },
    {
     "data": {
      "text/html": [
       "Total execution time: 00:00:00.258"
      ]
     },
     "metadata": {},
     "output_type": "display_data"
    },
    {
     "data": {
      "application/vnd.dataresource+json": {
       "data": [
        {
         "customer_id": "A",
         "total_items": "2",
         "total_price": "25"
        },
        {
         "customer_id": "B",
         "total_items": "3",
         "total_price": "40"
        }
       ],
       "schema": {
        "fields": [
         {
          "name": "customer_id"
         },
         {
          "name": "total_items"
         },
         {
          "name": "total_price"
         }
        ]
       }
      },
      "text/html": [
       "<table><tr><th>customer_id</th><th>total_items</th><th>total_price</th></tr><tr><td>A</td><td>2</td><td>25</td></tr><tr><td>B</td><td>3</td><td>40</td></tr></table>"
      ]
     },
     "execution_count": 4,
     "metadata": {},
     "output_type": "execute_result"
    }
   ],
   "source": [
    "WITH temp_table AS (SELECT sales.customer_id,\n",
    "                           sales.order_date,\n",
    "                           menu.product_id,\n",
    "                           menu.price\n",
    "                    FROM sales\n",
    "                         INNER JOIN members ON sales.customer_id = members.customer_id\n",
    "                        AND sales.order_date < members.join_date\n",
    "                         INNER JOIN menu ON sales.product_id = menu.product_id)\n",
    "SELECT customer_id,\n",
    "       COUNT(product_id) AS total_items,\n",
    "       SUM(price) AS total_price\n",
    "FROM temp_table\n",
    "GROUP BY customer_id;"
   ]
  },
  {
   "attachments": {},
   "cell_type": "markdown",
   "metadata": {
    "azdata_cell_guid": "0d4b9a8a-850b-4450-9af3-7f6b65d4cd6a"
   },
   "source": [
    "<span style=\"color: var(--vscode-foreground);\">9. If each $1 spent equates to 10 points and sushi has a 2x points multiplier - how many points would each customer have?</span>"
   ]
  },
  {
   "cell_type": "code",
   "execution_count": 1,
   "metadata": {
    "azdata_cell_guid": "94a04720-a438-43b6-96e2-c04773ad70c7",
    "language": "sql"
   },
   "outputs": [
    {
     "data": {
      "text/html": [
       "(3 rows affected)"
      ]
     },
     "metadata": {},
     "output_type": "display_data"
    },
    {
     "data": {
      "text/html": [
       "Total execution time: 00:00:00.101"
      ]
     },
     "metadata": {},
     "output_type": "display_data"
    },
    {
     "data": {
      "application/vnd.dataresource+json": {
       "data": [
        {
         "customer_id": "A",
         "points": "152"
        },
        {
         "customer_id": "B",
         "points": "148"
        },
        {
         "customer_id": "C",
         "points": "36"
        }
       ],
       "schema": {
        "fields": [
         {
          "name": "customer_id"
         },
         {
          "name": "points"
         }
        ]
       }
      },
      "text/html": [
       "<table><tr><th>customer_id</th><th>points</th></tr><tr><td>A</td><td>152</td></tr><tr><td>B</td><td>148</td></tr><tr><td>C</td><td>36</td></tr></table>"
      ]
     },
     "execution_count": 1,
     "metadata": {},
     "output_type": "execute_result"
    }
   ],
   "source": [
    "WITH temp_table AS (SELECT sales.customer_id,\n",
    "                           SUM(menu.price) total_price,\n",
    "                           SUM(IIF(menu.product_id = 1, 1, 0)) AS sushi\n",
    "                    FROM sales\n",
    "                         INNER JOIN menu ON sales.product_id = menu.product_id\n",
    "                    GROUP BY sales.customer_id)\n",
    "SELECT customer_id,\n",
    "       CASE\n",
    "           WHEN sushi > 0 THEN total_price * 2\n",
    "           ELSE total_price\n",
    "           END AS points\n",
    "FROM temp_table;"
   ]
  },
  {
   "attachments": {},
   "cell_type": "markdown",
   "metadata": {
    "azdata_cell_guid": "6ac8eeba-6460-42a7-8810-9b019d09b7ea"
   },
   "source": [
    "10\\. In the first week after a customer joins the program (including their join date) they earn 2x points on all items, not just sushi - how many points do customer A and B have at the end of January?"
   ]
  },
  {
   "cell_type": "code",
   "execution_count": null,
   "metadata": {
    "azdata_cell_guid": "6ec3fa4c-a379-4e7b-bc67-2ddd7cabf444",
    "language": "sql"
   },
   "outputs": [],
   "source": []
  }
 ],
 "metadata": {
  "kernelspec": {
   "display_name": "SQL",
   "language": "sql",
   "name": "SQL"
  },
  "language_info": {
   "name": "sql",
   "version": ""
  }
 },
 "nbformat": 4,
 "nbformat_minor": 2
}
